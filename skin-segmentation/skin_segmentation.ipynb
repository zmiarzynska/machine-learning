{
 "cells": [
  {
   "cell_type": "markdown",
   "id": "noted-alignment",
   "metadata": {},
   "source": [
    "# Skin segmentation "
   ]
  },
  {
   "cell_type": "markdown",
   "id": "perceived-european",
   "metadata": {},
   "source": [
    "In this assignement you will train classifier to assign colors to skin or no skin classes. The data is taken from [Skin Segmentation Data Set](http://archive.ics.uci.edu/ml/datasets/Skin+Segmentation#) in the UCI Machine Learning repository."
   ]
  },
  {
   "cell_type": "markdown",
   "id": "strong-tracy",
   "metadata": {},
   "source": [
    "The  data is in a plain text format and contains four columns. First three contain RGB color data  represented as integers in the range 0-255, and the last column is an integer label  with 1 representing skin and 2 representing no skin. This file we can load directly into a numpy array:"
   ]
  },
  {
   "cell_type": "markdown",
   "id": "extensive-section",
   "metadata": {},
   "source": [
    "You have to install the [scrapbook](https://github.com/nteract/scrapbook) module before using this notebook.  This will help me to automatically scan notebooks  using [papermill](https://github.com/nteract/papermill) module :) "
   ]
  },
  {
   "cell_type": "code",
   "execution_count": 1,
   "id": "becoming-norfolk",
   "metadata": {},
   "outputs": [],
   "source": [
    "import numpy as np\n",
    "import scrapbook as sb\n",
    "import matplotlib.pyplot as plt"
   ]
  },
  {
   "cell_type": "markdown",
   "id": "southeast-bunny",
   "metadata": {},
   "source": [
    "Please fill your firstname and name in the cell below."
   ]
  },
  {
   "cell_type": "code",
   "execution_count": 2,
   "id": "minor-namibia",
   "metadata": {},
   "outputs": [
    {
     "data": {
      "application/scrapbook.scrap.json+json": {
       "data": [
        "Zuzanna",
        "Miarzynska"
       ],
       "encoder": "json",
       "name": "person1",
       "version": 1
      }
     },
     "metadata": {
      "scrapbook": {
       "data": true,
       "display": false,
       "name": "person1"
      }
     },
     "output_type": "display_data"
    },
    {
     "data": {
      "text/plain": [
       "['Zuzanna', 'Miarzynska']"
      ]
     },
     "metadata": {
      "scrapbook": {
       "data": false,
       "display": true,
       "name": "person1"
      }
     },
     "output_type": "display_data"
    },
    {
     "data": {
      "application/scrapbook.scrap.json+json": {
       "data": [
        "Mikolaj",
        "Mentel"
       ],
       "encoder": "json",
       "name": "person2",
       "version": 1
      }
     },
     "metadata": {
      "scrapbook": {
       "data": true,
       "display": false,
       "name": "person2"
      }
     },
     "output_type": "display_data"
    }
   ],
   "source": [
    "sb.glue('person1',['Zuzanna', 'Miarzynska'], display=True)\n",
    "# In case of the two-person team add second persons\n",
    "sb.glue('person2',['Mikolaj', 'Mentel'])"
   ]
  },
  {
   "cell_type": "code",
   "execution_count": 3,
   "id": "encouraging-breath",
   "metadata": {},
   "outputs": [],
   "source": [
    "data = np.loadtxt('data/Skin_NonSkin.txt')"
   ]
  },
  {
   "cell_type": "code",
   "execution_count": 4,
   "id": "piano-resolution",
   "metadata": {},
   "outputs": [],
   "source": [
    "rgb  = data[:,:3]\n",
    "lbl = data[:,3].astype('int32') # some function expect labels to be integers"
   ]
  },
  {
   "cell_type": "markdown",
   "id": "hollow-electric",
   "metadata": {},
   "source": [
    "We see that the classes are not balanced:"
   ]
  },
  {
   "cell_type": "code",
   "execution_count": 5,
   "id": "electronic-carrier",
   "metadata": {},
   "outputs": [
    {
     "data": {
      "text/plain": [
       "array([     0,  50859, 194198])"
      ]
     },
     "execution_count": 5,
     "metadata": {},
     "output_type": "execute_result"
    }
   ],
   "source": [
    "np.bincount(lbl)"
   ]
  },
  {
   "cell_type": "markdown",
   "id": "vocal-botswana",
   "metadata": {},
   "source": [
    "## Problem 1 "
   ]
  },
  {
   "cell_type": "markdown",
   "id": "printable-stand",
   "metadata": {},
   "source": [
    "Compare the performance of the QuadraticDiscriminantAnalysis, LinearDiscriminativeAnalysis and NaiveBayes classifiers on this set. Use the `sklearn` library when needed. Compare the confusion matrices (tnr,  fnr,fpr,tpr), precision and f1_ score and auc_score, as well ROC curves. Prepare a summary table with all the numerical scores one row per classifier and one column per metric (use pandas.DataFame). Plot all  ROC curves on the same plot and label them accordingly. Assume that skin is positive and non-skin negative. "
   ]
  },
  {
   "cell_type": "markdown",
   "id": "stable-dependence",
   "metadata": {},
   "source": [
    "__Hint__ as you will be repeating this,  it's probably a good idea  to write a python function that does all the analysis. "
   ]
  },
  {
   "cell_type": "code",
   "execution_count": 6,
   "id": "unable-member",
   "metadata": {},
   "outputs": [],
   "source": [
    "from sklearn.model_selection import train_test_split\n",
    "\n",
    "from sklearn.metrics import roc_curve, roc_auc_score, confusion_matrix, precision_score, f1_score\n",
    "from sklearn.model_selection import train_test_split\n",
    "from sklearn.discriminant_analysis import QuadraticDiscriminantAnalysis, LinearDiscriminantAnalysis\n",
    "from sklearn.naive_bayes import GaussianNB\n",
    "\n"
   ]
  },
  {
   "cell_type": "code",
   "execution_count": 7,
   "id": "competent-witness",
   "metadata": {},
   "outputs": [
    {
     "data": {
      "application/scrapbook.scrap.json+json": {
       "data": [
        0.9985076547021742,
        0.0014923452978258074,
        0.07420912585000493,
        0.9257908741499951,
        0.993863732543377,
        0.9586203377723354,
        0.9996310786183866
       ],
       "encoder": "json",
       "name": "qda",
       "version": 1
      }
     },
     "metadata": {
      "scrapbook": {
       "data": true,
       "display": false,
       "name": "qda"
      }
     },
     "output_type": "display_data"
    },
    {
     "data": {
      "text/plain": [
       "[0.9985076547021742,\n",
       " 0.0014923452978258074,\n",
       " 0.07420912585000493,\n",
       " 0.9257908741499951,\n",
       " 0.993863732543377,\n",
       " 0.9586203377723354,\n",
       " 0.9996310786183866]"
      ]
     },
     "metadata": {
      "scrapbook": {
       "data": false,
       "display": true,
       "name": "qda"
      }
     },
     "output_type": "display_data"
    },
    {
     "data": {
      "application/scrapbook.scrap.json+json": {
       "data": [
        0.9408722500964879,
        0.059127749903512154,
        0.09352517985611511,
        0.9064748201438849,
        0.8001043841336117,
        0.8499745876264843,
        0.9491227115271456
       ],
       "encoder": "json",
       "name": "lda",
       "version": 1
      }
     },
     "metadata": {
      "scrapbook": {
       "data": true,
       "display": false,
       "name": "lda"
      }
     },
     "output_type": "display_data"
    },
    {
     "data": {
      "text/plain": [
       "[0.9408722500964879,\n",
       " 0.059127749903512154,\n",
       " 0.09352517985611511,\n",
       " 0.9064748201438849,\n",
       " 0.8001043841336117,\n",
       " 0.8499745876264843,\n",
       " 0.9491227115271456]"
      ]
     },
     "metadata": {
      "scrapbook": {
       "data": false,
       "display": true,
       "name": "lda"
      }
     },
     "output_type": "display_data"
    },
    {
     "data": {
      "application/scrapbook.scrap.json+json": {
       "data": [
        0.9745786697542776,
        0.025421330245722372,
        0.26392037055287276,
        0.7360796294471272,
        0.8831737022584841,
        0.8029456030961083,
        0.9433127037438374
       ],
       "encoder": "json",
       "name": "nb",
       "version": 1
      }
     },
     "metadata": {
      "scrapbook": {
       "data": true,
       "display": false,
       "name": "nb"
      }
     },
     "output_type": "display_data"
    },
    {
     "data": {
      "text/plain": [
       "[0.9745786697542776,\n",
       " 0.025421330245722372,\n",
       " 0.26392037055287276,\n",
       " 0.7360796294471272,\n",
       " 0.8831737022584841,\n",
       " 0.8029456030961083,\n",
       " 0.9433127037438374]"
      ]
     },
     "metadata": {
      "scrapbook": {
       "data": false,
       "display": true,
       "name": "nb"
      }
     },
     "output_type": "display_data"
    }
   ],
   "source": [
    "import pandas as pd\n",
    "\n",
    "def analize(cls, name, train_X, train_Y, test_X, test_Y):\n",
    "    cls.fit(train_X, train_Y)\n",
    "    test_prediction = cls.predict(test_X)\n",
    "    test_proba = cls.predict_proba(test_X)[:,1]\n",
    "    \n",
    "    tnr, fpr, fnr, tpr = confusion_matrix(test_Y, test_prediction, normalize='true').ravel()\n",
    "    precision =  precision_score(test_Y, test_prediction)\n",
    "    f1 = f1_score(test_Y, test_prediction)\n",
    "    auc = roc_auc_score(test_Y, test_proba)\n",
    "    fprs, tprs, thds = roc_curve(test_Y, test_proba)\n",
    "    \n",
    "    return  pd.DataFrame({'tnr':[tnr],\n",
    "                          'fpr':[fpr],\n",
    "                          'fnr':[fnr],\n",
    "                          'tpr':[tpr],\n",
    "                          'precision' : [precision],\n",
    "                          'f1' :[f1],\n",
    "                          'auc' :[auc]\n",
    "                           }, index=[name]), fprs, tprs, thds\n",
    "\n",
    "\n",
    "seed =4343\n",
    "rgb_data, rgb_test_data, lbl_data, lbl_test_data = train_test_split(rgb, lbl, test_size=0.2, random_state=seed)\n",
    "\n",
    "qda = QuadraticDiscriminantAnalysis()\n",
    "lda = LinearDiscriminantAnalysis()\n",
    "gnb = GaussianNB()\n",
    "\n",
    "classifiers = [(\"qda\",qda),(\"lda\",lda),(\"nb\", gnb)]\n",
    "\n",
    "roc_curves = []\n",
    "\n",
    "for name, cls in classifiers:\n",
    "    df, fprs, tprs, thds = analize(cls, name, rgb_data, lbl_data==1, rgb_test_data, lbl_test_data==1)\n",
    "    sb.glue(name, [df['tnr'][0], df['fpr'][0], df['fnr'][0], df['tpr'][0], df['precision'][0], df['f1'][0], df['auc'][0]], display=True)\n",
    "    roc_curves.append((name, fprs, tprs, thds))"
   ]
  },
  {
   "cell_type": "markdown",
   "id": "funky-highlight",
   "metadata": {},
   "source": [
    "For each classifier use the scrapbook to save results. For each string subsitute the corresponding value."
   ]
  },
  {
   "cell_type": "code",
   "execution_count": 8,
   "id": "empty-briefing",
   "metadata": {},
   "outputs": [],
   "source": [
    "#sb.glue('qda',['tnr', 'fpr', 'fnr', 'tpr', 'precision', 'f1', 'auc'], display=True)"
   ]
  },
  {
   "cell_type": "code",
   "execution_count": 9,
   "id": "elegant-shanghai",
   "metadata": {},
   "outputs": [],
   "source": [
    "#sb.glue('lda',['tnr', 'fpr', 'fnr', 'tpr', 'precision', 'f1', 'auc'], display=True)"
   ]
  },
  {
   "cell_type": "code",
   "execution_count": 10,
   "id": "solar-karen",
   "metadata": {},
   "outputs": [],
   "source": [
    "#sb.glue('nb',['tnr', 'fpr', 'fnr', 'tpr', 'precision', 'f1', 'auc'], display=True)"
   ]
  },
  {
   "cell_type": "markdown",
   "id": "metropolitan-november",
   "metadata": {},
   "source": [
    "also please save the ROC plot"
   ]
  },
  {
   "cell_type": "code",
   "execution_count": 11,
   "id": "restricted-prairie",
   "metadata": {},
   "outputs": [
    {
     "data": {
      "image/png": "[encoded data removed]",
      "text/plain": [
       "<Figure size 432x288 with 1 Axes>"
      ]
     },
     "metadata": {
      "needs_background": "light"
     },
     "output_type": "display_data"
    }
   ],
   "source": [
    "fig, ax = plt.subplots()\n",
    "#plot ROCs\n",
    "for roc in roc_curves:\n",
    "    ax.plot(roc[1],roc[2], label=roc[0]);\n",
    "ax.legend()\n",
    "sb.glue('ROC',fig, \"display\", display=False);"
   ]
  },
  {
   "cell_type": "code",
   "execution_count": 12,
   "id": "organizational-straight",
   "metadata": {},
   "outputs": [
    {
     "data": {
      "text/plain": [
       "1.7924605295910747"
      ]
     },
     "execution_count": 12,
     "metadata": {},
     "output_type": "execute_result"
    }
   ],
   "source": [
    "lbl.sum()/len(lbl)"
   ]
  },
  {
   "cell_type": "markdown",
   "id": "flexible-contrast",
   "metadata": {},
   "source": [
    "## Problem 2"
   ]
  },
  {
   "cell_type": "markdown",
   "id": "stock-devices",
   "metadata": {},
   "source": [
    "Repeat same analysis but with RGB  data converted to Hue  Saturation Value (HSV) format. You can use the `colorsys` module for conversion. Use the scrapbook again for saving your results appending \"\\_hsv\" to variable name e.g."
   ]
  },
  {
   "cell_type": "code",
   "execution_count": 13,
   "id": "buried-locator",
   "metadata": {},
   "outputs": [
    {
     "data": {
      "application/scrapbook.scrap.json+json": {
       "data": [
        "tnr",
        "fpr",
        "fnr",
        "tpr",
        "precision",
        "f1",
        "auc"
       ],
       "encoder": "json",
       "name": "qda_hsv",
       "version": 1
      }
     },
     "metadata": {
      "scrapbook": {
       "data": true,
       "display": false,
       "name": "qda_hsv"
      }
     },
     "output_type": "display_data"
    },
    {
     "data": {
      "text/plain": [
       "['tnr', 'fpr', 'fnr', 'tpr', 'precision', 'f1', 'auc']"
      ]
     },
     "metadata": {
      "scrapbook": {
       "data": false,
       "display": true,
       "name": "qda_hsv"
      }
     },
     "output_type": "display_data"
    }
   ],
   "source": [
    "sb.glue('qda_hsv',['tnr', 'fpr', 'fnr', 'tpr', 'precision', 'f1', 'auc'], display=True)"
   ]
  },
  {
   "cell_type": "code",
   "execution_count": 14,
   "id": "toxic-purchase",
   "metadata": {},
   "outputs": [],
   "source": [
    "from colorsys import rgb_to_hsv\n",
    "hsv = np.asarray([rgb_to_hsv(*row) for row in rgb]) #inneficient but it does not matter"
   ]
  },
  {
   "cell_type": "code",
   "execution_count": 15,
   "id": "coordinated-video",
   "metadata": {},
   "outputs": [
    {
     "data": {
      "text/plain": [
       "array([[6.29251701e-01, 3.98373984e-01, 1.23000000e+02],\n",
       "       [6.29251701e-01, 4.01639344e-01, 1.22000000e+02],\n",
       "       [6.29251701e-01, 4.04958678e-01, 1.21000000e+02],\n",
       "       ...,\n",
       "       [1.63398693e-01, 3.12883436e-01, 1.63000000e+02],\n",
       "       [1.63398693e-01, 3.12883436e-01, 1.63000000e+02],\n",
       "       [0.00000000e+00, 0.00000000e+00, 2.55000000e+02]])"
      ]
     },
     "execution_count": 15,
     "metadata": {},
     "output_type": "execute_result"
    }
   ],
   "source": [
    "hsv"
   ]
  },
  {
   "cell_type": "code",
   "execution_count": 16,
   "id": "considerable-humanity",
   "metadata": {},
   "outputs": [],
   "source": [
    "seed =4343\n",
    "hsv_data, hsv_test_data, hsv_lbl_data, hsv_lbl_test_data = train_test_split(hsv, lbl, test_size=0.2, random_state=seed)\n",
    "\n",
    "qda = QuadraticDiscriminantAnalysis()\n",
    "lda = LinearDiscriminantAnalysis()\n",
    "gnb = GaussianNB()\n",
    "\n",
    "classifiers = [(\"qda_hsv\",qda),(\"lda_hsv\",lda),(\"nb_hsv\", gnb)]"
   ]
  },
  {
   "cell_type": "code",
   "execution_count": 17,
   "id": "identical-spread",
   "metadata": {},
   "outputs": [
    {
     "data": {
      "application/scrapbook.scrap.json+json": {
       "data": [
        0.9950855525537116,
        0.004914447446288434,
        0.011037745146348674,
        0.9889622548536513,
        0.9813221200860551,
        0.9851273744662052,
        0.9995193592565714
       ],
       "encoder": "json",
       "name": "qda_hsv",
       "version": 1
      }
     },
     "metadata": {
      "scrapbook": {
       "data": true,
       "display": false,
       "name": "qda_hsv"
      }
     },
     "output_type": "display_data"
    },
    {
     "data": {
      "text/plain": [
       "[0.9950855525537116,\n",
       " 0.004914447446288434,\n",
       " 0.011037745146348674,\n",
       " 0.9889622548536513,\n",
       " 0.9813221200860551,\n",
       " 0.9851273744662052,\n",
       " 0.9995193592565714]"
      ]
     },
     "metadata": {
      "scrapbook": {
       "data": false,
       "display": true,
       "name": "qda_hsv"
      }
     },
     "output_type": "display_data"
    },
    {
     "data": {
      "application/scrapbook.scrap.json+json": {
       "data": [
        0.8968480638106265,
        0.10315193618937347,
        0,
        1,
        0.7167985306583781,
        0.8350409414475579,
        0.9307318022648439
       ],
       "encoder": "json",
       "name": "lda_hsv",
       "version": 1
      }
     },
     "metadata": {
      "scrapbook": {
       "data": true,
       "display": false,
       "name": "lda_hsv"
      }
     },
     "output_type": "display_data"
    },
    {
     "data": {
      "text/plain": [
       "[0.8968480638106265,\n",
       " 0.10315193618937347,\n",
       " 0.0,\n",
       " 1.0,\n",
       " 0.7167985306583781,\n",
       " 0.8350409414475579,\n",
       " 0.9307318022648439]"
      ]
     },
     "metadata": {
      "scrapbook": {
       "data": false,
       "display": true,
       "name": "lda_hsv"
      }
     },
     "output_type": "display_data"
    },
    {
     "data": {
      "application/scrapbook.scrap.json+json": {
       "data": [
        0.9856940692139458,
        0.01430593078605429,
        0.004139154429880753,
        0.9958608455701192,
        0.947847293874871,
        0.9712610534409841,
        0.9972563816211482
       ],
       "encoder": "json",
       "name": "nb_hsv",
       "version": 1
      }
     },
     "metadata": {
      "scrapbook": {
       "data": true,
       "display": false,
       "name": "nb_hsv"
      }
     },
     "output_type": "display_data"
    },
    {
     "data": {
      "text/plain": [
       "[0.9856940692139458,\n",
       " 0.01430593078605429,\n",
       " 0.004139154429880753,\n",
       " 0.9958608455701192,\n",
       " 0.947847293874871,\n",
       " 0.9712610534409841,\n",
       " 0.9972563816211482]"
      ]
     },
     "metadata": {
      "scrapbook": {
       "data": false,
       "display": true,
       "name": "nb_hsv"
      }
     },
     "output_type": "display_data"
    }
   ],
   "source": [
    "roc_curves = []\n",
    "\n",
    "for name, cls in classifiers:\n",
    "    df, fprs, tprs, thds = analize(cls, name, hsv_data, hsv_lbl_data==1, hsv_test_data, hsv_lbl_test_data==1)\n",
    "    sb.glue(name, [df['tnr'][0], df['fpr'][0], df['fnr'][0], df['tpr'][0], df['precision'][0], df['f1'][0], df['auc'][0]], display=True)\n",
    "    roc_curves.append((name, fprs, tprs, thds))"
   ]
  },
  {
   "cell_type": "code",
   "execution_count": 18,
   "id": "overall-architecture",
   "metadata": {},
   "outputs": [
    {
     "data": {
      "image/png": "[encoded data removed]",
      "text/plain": [
       "<Figure size 432x288 with 1 Axes>"
      ]
     },
     "metadata": {
      "needs_background": "light"
     },
     "output_type": "display_data"
    }
   ],
   "source": [
    "fig, ax = plt.subplots()\n",
    "#plot ROCs\n",
    "for roc in roc_curves:\n",
    "    ax.plot(roc[1],roc[2], label=roc[0]);\n",
    "ax.legend()\n",
    "sb.glue('ROC_hsv',fig, \"display\", display=False);"
   ]
  },
  {
   "cell_type": "code",
   "execution_count": null,
   "id": "spanish-richardson",
   "metadata": {},
   "outputs": [],
   "source": []
  }
 ],
 "metadata": {
  "jupytext": {
   "text_representation": {
    "extension": ".Rmd",
    "format_name": "rmarkdown",
    "format_version": "1.2",
    "jupytext_version": "1.11.1"
   }
  },
  "kernelspec": {
   "display_name": "Python 3",
   "language": "python",
   "name": "python3"
  },
  "language_info": {
   "codemirror_mode": {
    "name": "ipython",
    "version": 3
   },
   "file_extension": ".py",
   "mimetype": "text/x-python",
   "name": "python",
   "nbconvert_exporter": "python",
   "pygments_lexer": "ipython3",
   "version": "3.6.9"
  }
 },
 "nbformat": 4,
 "nbformat_minor": 5
}
